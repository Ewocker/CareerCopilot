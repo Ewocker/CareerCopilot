{
 "cells": [
  {
   "cell_type": "code",
   "execution_count": 26,
   "metadata": {
    "ExecuteTime": {
     "end_time": "2025-03-15T01:19:12.478996Z",
     "start_time": "2025-03-15T01:19:12.470935Z"
    }
   },
   "outputs": [],
   "source": [
    "# imports\n",
    "import os\n",
    "import glob\n",
    "from dotenv import load_dotenv\n",
    "import gradio as gr\n",
    "\n",
    "# imports for langchain, plotly and Chroma\n",
    "from langchain.document_loaders import DirectoryLoader, TextLoader\n",
    "from langchain.text_splitter import CharacterTextSplitter\n",
    "from langchain.schema import Document\n",
    "from langchain_openai import OpenAIEmbeddings, ChatOpenAI\n",
    "from langchain_chroma import Chroma\n",
    "import matplotlib.pyplot as plt\n",
    "from sklearn.manifold import TSNE\n",
    "import numpy as np\n",
    "import plotly.graph_objects as go\n",
    "from langchain.memory import ConversationBufferMemory\n",
    "from langchain.chains import ConversationalRetrievalChain\n",
    "from langchain_core.callbacks import StdOutCallbackHandler\n",
    "from langchain.embeddings import HuggingFaceEmbeddings\n",
    "from langchain.prompts import ChatPromptTemplate, SystemMessagePromptTemplate, HumanMessagePromptTemplate\n"
   ]
  },
  {
   "cell_type": "code",
   "execution_count": 27,
   "metadata": {
    "ExecuteTime": {
     "end_time": "2025-03-15T01:19:13.333755Z",
     "start_time": "2025-03-15T01:19:13.331337Z"
    }
   },
   "outputs": [],
   "source": [
    "MODEL = \"gpt-4o-mini\"\n",
    "db_name = \"vector_db\""
   ]
  },
  {
   "cell_type": "code",
   "execution_count": 3,
   "metadata": {
    "ExecuteTime": {
     "end_time": "2025-03-15T00:52:20.545392Z",
     "start_time": "2025-03-15T00:52:20.539223Z"
    }
   },
   "outputs": [],
   "source": [
    "load_dotenv()\n",
    "os.environ['OPENAI_API_KEY'] = os.getenv('OPENAI_API_KEY', 'your-key-if-not-using-env')"
   ]
  },
  {
   "cell_type": "code",
   "execution_count": 4,
   "metadata": {
    "ExecuteTime": {
     "end_time": "2025-03-15T00:52:20.588244Z",
     "start_time": "2025-03-15T00:52:20.581394Z"
    }
   },
   "outputs": [],
   "source": [
    "folders = glob.glob(\"knowledge-base/*\")\n",
    "\n",
    "# doc_type is the type of document, e.g. \"test\", \"interview\", \"project\", \"course\", etc.\n",
    "# basically the folder name under the knowledge-base folder\n",
    "def add_metadata(doc, doc_type):\n",
    "    doc.metadata[\"doc_type\"] = doc_type\n",
    "    return doc\n",
    "\n",
    "text_loader_kwargs = {'encoding': 'utf-8'}\n",
    "\n",
    "documents = []\n",
    "for folder in folders:\n",
    "    doc_type = os.path.basename(folder)\n",
    "    loader = DirectoryLoader(folder, glob=\"**/*.md\", loader_cls=TextLoader, loader_kwargs=text_loader_kwargs)\n",
    "    folder_docs = loader.load()\n",
    "    documents.extend([add_metadata(doc, doc_type) for doc in folder_docs])"
   ]
  },
  {
   "cell_type": "code",
   "execution_count": null,
   "metadata": {
    "ExecuteTime": {
     "end_time": "2025-03-15T00:52:20.660341Z",
     "start_time": "2025-03-15T00:52:20.649545Z"
    }
   },
   "outputs": [],
   "source": [
    "text_splitter = CharacterTextSplitter(chunk_size=1000, chunk_overlap=200)\n",
    "chunks = text_splitter.split_documents(documents)\n",
    "\n",
    "print(f\"Total number of chunks: {len(chunks)}\")\n",
    "print(f\"Document types found: {set(doc.metadata['doc_type'] for doc in documents)}\")"
   ]
  },
  {
   "cell_type": "code",
   "execution_count": null,
   "metadata": {
    "ExecuteTime": {
     "end_time": "2025-03-15T00:53:36.994999Z",
     "start_time": "2025-03-15T00:53:36.162226Z"
    }
   },
   "outputs": [],
   "source": [
    "embeddings = OpenAIEmbeddings()\n",
    "if os.path.exists(db_name):\n",
    "    Chroma(persist_directory=db_name, embedding_function=embeddings).delete_collection()\n",
    "vectorstore = Chroma.from_documents(documents=chunks, embedding=embeddings, persist_directory=db_name)\n",
    "print(f\"Vectorstore created with {vectorstore._collection.count()} documents\")"
   ]
  },
  {
   "cell_type": "code",
   "execution_count": null,
   "metadata": {
    "ExecuteTime": {
     "end_time": "2025-03-15T00:59:11.414039Z",
     "start_time": "2025-03-15T00:59:11.409309Z"
    }
   },
   "outputs": [],
   "source": [
    "# Let's investigate the vectors\n",
    "\n",
    "collection = vectorstore._collection\n",
    "count = collection.count()\n",
    "\n",
    "sample_embedding = collection.get(limit=1, include=[\"embeddings\"])[\"embeddings\"][0]\n",
    "dimensions = len(sample_embedding)\n",
    "print(f\"There are {count:,} vectors with {dimensions:,} dimensions in the vector store\")"
   ]
  },
  {
   "cell_type": "code",
   "execution_count": 50,
   "metadata": {
    "ExecuteTime": {
     "end_time": "2025-03-15T01:36:56.124757Z",
     "start_time": "2025-03-15T01:36:56.121377Z"
    }
   },
   "outputs": [],
   "source": [
    "# import SystemMessage\n",
    "\n",
    "from langchain.schema import SystemMessage, HumanMessage, AIMessage\n",
    "\n",
    "# Create memory with initial messages\n",
    "memory = ConversationBufferMemory(memory_key=\"chat_history\", return_messages=True)\n",
    "#\n",
    "# initial_messages = [\n",
    "#     AIMessage(content=\"Hi! I'm here to help you understand if Yu-An Lin is a good match for your job role. Please ask me anything about Yu-An's experience.\"),\n",
    "# ]\n",
    "#\n",
    "# memory.chat_memory.messages = initial_messages  # Preload history"
   ]
  },
  {
   "cell_type": "code",
   "execution_count": 51,
   "metadata": {
    "ExecuteTime": {
     "end_time": "2025-03-15T01:36:59.896110Z",
     "start_time": "2025-03-15T01:36:59.870725Z"
    }
   },
   "outputs": [],
   "source": [
    "llm = ChatOpenAI(model_name=MODEL, temperature=0.7)\n",
    "\n",
    "retriever = vectorstore.as_retriever(search_kwargs={\"k\": 2})\n",
    "\n",
    "name = \"Yu-An Lin\"\n",
    "# System message: Guides the AI on how to respond\n",
    "system_message = SystemMessagePromptTemplate.from_template(\n",
    "    f\"You are a helpful assistant that helps {name} answer questions from recruiters about his experience.\\n\"\n",
    "    f\"Your goal is to help {name} secure a job offer while being honest and concise.\\n\\n\"\n",
    "    \"Use the following retrieved job experience to answer the recruiter's question:\\n\"\n",
    "    \"------\\n\"\n",
    "    \"{context}\\n\\n\"\n",
    "    f\"If you don’t know the answer or if {name} has the experience, say so, but suggest that {name} can clarify if needed.\"\n",
    ")\n",
    "\n",
    "# Human message: The recruiter's actual question\n",
    "human_message = HumanMessagePromptTemplate.from_template(\"{question}\")\n",
    "\n",
    "# Combine into a ChatPromptTemplate\n",
    "chat_prompt = ChatPromptTemplate.from_messages([system_message, human_message])\n",
    "\n",
    "chain = ConversationalRetrievalChain.from_llm(\n",
    "    llm=llm,\n",
    "    retriever=retriever,\n",
    "    memory=memory,\n",
    "    combine_docs_chain_kwargs={\"prompt\": chat_prompt},\n",
    "    callbacks=[StdOutCallbackHandler()]\n",
    ")\n",
    "\n",
    "def generate_response(input_text, history):\n",
    "    response = chain({\"question\": input_text})\n",
    "    return response[\"answer\"], history + [(input_text, response[\"answer\"])]\n",
    "\n"
   ]
  },
  {
   "cell_type": "code",
   "execution_count": null,
   "metadata": {
    "ExecuteTime": {
     "end_time": "2025-03-15T01:37:04.053649Z",
     "start_time": "2025-03-15T01:37:00.552890Z"
    }
   },
   "outputs": [],
   "source": [
    "# testing the chain\n",
    "query = \"Please let me know if he has experience in data science?\"\n",
    "result = chain.invoke({\"question\": query})\n",
    "print(result[\"answer\"])"
   ]
  },
  {
   "cell_type": "code",
   "execution_count": null,
   "metadata": {
    "ExecuteTime": {
     "end_time": "2025-03-15T01:38:24.305037Z",
     "start_time": "2025-03-15T01:38:24.064823Z"
    }
   },
   "outputs": [],
   "source": [
    "def chat(question, history):\n",
    "    chain_result = chain.invoke({\"question\": question})\n",
    "    return chain_result[\"answer\"]\n",
    "\n",
    "# And in Gradio:\n",
    "\n",
    "view = gr.ChatInterface(chat, type=\"messages\").launch(inbrowser=False)"
   ]
  },
  {
   "cell_type": "code",
   "execution_count": null,
   "metadata": {},
   "outputs": [],
   "source": []
  }
 ],
 "metadata": {
  "kernelspec": {
   "display_name": "llm-resume-clone",
   "language": "python",
   "name": "python3"
  },
  "language_info": {
   "codemirror_mode": {
    "name": "ipython",
    "version": 3
   },
   "file_extension": ".py",
   "mimetype": "text/x-python",
   "name": "python",
   "nbconvert_exporter": "python",
   "pygments_lexer": "ipython3",
   "version": "3.12.9"
  }
 },
 "nbformat": 4,
 "nbformat_minor": 2
}
